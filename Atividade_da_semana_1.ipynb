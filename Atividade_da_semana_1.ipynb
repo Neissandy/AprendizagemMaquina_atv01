{
  "nbformat": 4,
  "nbformat_minor": 0,
  "metadata": {
    "colab": {
      "name": "Atividade da semana 1",
      "provenance": [],
      "authorship_tag": "ABX9TyPSI4IOCDC8o1hQ5h8bDvzs",
      "include_colab_link": true
    },
    "kernelspec": {
      "name": "python3",
      "display_name": "Python 3"
    }
  },
  "cells": [
    {
      "cell_type": "markdown",
      "metadata": {
        "id": "view-in-github",
        "colab_type": "text"
      },
      "source": [
        "<a href=\"https://colab.research.google.com/github/Neissandy/AprendizagemMaquina_atv01/blob/master/Atividade_da_semana_1.ipynb\" target=\"_parent\"><img src=\"https://colab.research.google.com/assets/colab-badge.svg\" alt=\"Open In Colab\"/></a>"
      ]
    },
    {
      "cell_type": "code",
      "metadata": {
        "id": "nfzFtZqFxbxt",
        "colab_type": "code",
        "colab": {}
      },
      "source": [
        ""
      ],
      "execution_count": 102,
      "outputs": []
    },
    {
      "cell_type": "markdown",
      "metadata": {
        "id": "ARf_jI7rLYW_",
        "colab_type": "text"
      },
      "source": [
        "##Dados sobre a possibilidade de ataque cardíaco"
      ]
    },
    {
      "cell_type": "markdown",
      "metadata": {
        "id": "mOPa5_7qMRzs",
        "colab_type": "text"
      },
      "source": [
        "**DESCRIÇÃO:**\n",
        "A base de dados mostra a possibilidade de ataque cardíaco em pacientes. Possui 302 linhas com 14 tipos de atributos: \n",
        "\n",
        "1.   **AGE** - idade\n",
        "2.   **SEX** - sexo \n",
        "3. **CP** - tipo de dor no peito (4 valores)\n",
        "4. **TRESTBPS** - pressão arterial em repouso\n",
        "5. **CHOL** - colesterol sérico em mg / dl\n",
        "6. **FBS** - açúcar no sangue em jejum> 120 mg / dl\n",
        "7. **RESTECG** - resultados eletrocardiográficos em repouso (valores 0,1 , 2)\n",
        "8. **THALACH** - frequência cardíaca máxima alcançada\n",
        "9. **EXANG** - angina induzida por exercício\n",
        "10. **OLDPEAK** - pico antigo = depressão de ST induzida por exercício em relação ao repouso\n",
        "11. **SLOPE** - a inclinação do segmento ST de pico de exercício\n",
        "12. **CA** - número de vasos principais (0-3) colorido por fluorosopia\n",
        "13. **THAL** - thal: 0 = normal; 1 = defeito corrigido; 2 = defeito reversível\n",
        "14. **TARGET** - alvo: 0 = menos chance de ataque cardíaco 1 = mais chance de ataque cardíaco\n"
      ]
    },
    {
      "cell_type": "markdown",
      "metadata": {
        "id": "k6CZrmRXOzvN",
        "colab_type": "text"
      },
      "source": [
        "## 1. Preparando Dados"
      ]
    },
    {
      "cell_type": "code",
      "metadata": {
        "id": "CU3xokttLsd3",
        "colab_type": "code",
        "colab": {}
      },
      "source": [
        "#Importando bibliotacas\n",
        "import numpy as np\n",
        "import pandas as pd"
      ],
      "execution_count": 103,
      "outputs": []
    },
    {
      "cell_type": "code",
      "metadata": {
        "id": "ojqTrsvbQMq4",
        "colab_type": "code",
        "colab": {}
      },
      "source": [
        "#lendo csv e armazenando em um dataframe\n",
        "dados = pd.read_csv('/content/datasets_737503_1278636_heart.csv')"
      ],
      "execution_count": 104,
      "outputs": []
    },
    {
      "cell_type": "code",
      "metadata": {
        "id": "tePocShaQwtm",
        "colab_type": "code",
        "colab": {
          "base_uri": "https://localhost:8080/",
          "height": 197
        },
        "outputId": "0bbe2036-6d59-4808-d0da-be28cabb926f"
      },
      "source": [
        "#Verificando o dataframe\n",
        "dados.head()"
      ],
      "execution_count": 105,
      "outputs": [
        {
          "output_type": "execute_result",
          "data": {
            "text/html": [
              "<div>\n",
              "<style scoped>\n",
              "    .dataframe tbody tr th:only-of-type {\n",
              "        vertical-align: middle;\n",
              "    }\n",
              "\n",
              "    .dataframe tbody tr th {\n",
              "        vertical-align: top;\n",
              "    }\n",
              "\n",
              "    .dataframe thead th {\n",
              "        text-align: right;\n",
              "    }\n",
              "</style>\n",
              "<table border=\"1\" class=\"dataframe\">\n",
              "  <thead>\n",
              "    <tr style=\"text-align: right;\">\n",
              "      <th></th>\n",
              "      <th>age</th>\n",
              "      <th>sex</th>\n",
              "      <th>cp</th>\n",
              "      <th>trestbps</th>\n",
              "      <th>chol</th>\n",
              "      <th>fbs</th>\n",
              "      <th>restecg</th>\n",
              "      <th>thalach</th>\n",
              "      <th>exang</th>\n",
              "      <th>oldpeak</th>\n",
              "      <th>slope</th>\n",
              "      <th>ca</th>\n",
              "      <th>thal</th>\n",
              "      <th>target</th>\n",
              "    </tr>\n",
              "  </thead>\n",
              "  <tbody>\n",
              "    <tr>\n",
              "      <th>0</th>\n",
              "      <td>63</td>\n",
              "      <td>1</td>\n",
              "      <td>3</td>\n",
              "      <td>145</td>\n",
              "      <td>233</td>\n",
              "      <td>1</td>\n",
              "      <td>0</td>\n",
              "      <td>150</td>\n",
              "      <td>0</td>\n",
              "      <td>2.3</td>\n",
              "      <td>0</td>\n",
              "      <td>0</td>\n",
              "      <td>1</td>\n",
              "      <td>1</td>\n",
              "    </tr>\n",
              "    <tr>\n",
              "      <th>1</th>\n",
              "      <td>37</td>\n",
              "      <td>1</td>\n",
              "      <td>2</td>\n",
              "      <td>130</td>\n",
              "      <td>250</td>\n",
              "      <td>0</td>\n",
              "      <td>1</td>\n",
              "      <td>187</td>\n",
              "      <td>0</td>\n",
              "      <td>3.5</td>\n",
              "      <td>0</td>\n",
              "      <td>0</td>\n",
              "      <td>2</td>\n",
              "      <td>1</td>\n",
              "    </tr>\n",
              "    <tr>\n",
              "      <th>2</th>\n",
              "      <td>41</td>\n",
              "      <td>0</td>\n",
              "      <td>1</td>\n",
              "      <td>130</td>\n",
              "      <td>204</td>\n",
              "      <td>0</td>\n",
              "      <td>0</td>\n",
              "      <td>172</td>\n",
              "      <td>0</td>\n",
              "      <td>1.4</td>\n",
              "      <td>2</td>\n",
              "      <td>0</td>\n",
              "      <td>2</td>\n",
              "      <td>1</td>\n",
              "    </tr>\n",
              "    <tr>\n",
              "      <th>3</th>\n",
              "      <td>56</td>\n",
              "      <td>1</td>\n",
              "      <td>1</td>\n",
              "      <td>120</td>\n",
              "      <td>236</td>\n",
              "      <td>0</td>\n",
              "      <td>1</td>\n",
              "      <td>178</td>\n",
              "      <td>0</td>\n",
              "      <td>0.8</td>\n",
              "      <td>2</td>\n",
              "      <td>0</td>\n",
              "      <td>2</td>\n",
              "      <td>1</td>\n",
              "    </tr>\n",
              "    <tr>\n",
              "      <th>4</th>\n",
              "      <td>57</td>\n",
              "      <td>0</td>\n",
              "      <td>0</td>\n",
              "      <td>120</td>\n",
              "      <td>354</td>\n",
              "      <td>0</td>\n",
              "      <td>1</td>\n",
              "      <td>163</td>\n",
              "      <td>1</td>\n",
              "      <td>0.6</td>\n",
              "      <td>2</td>\n",
              "      <td>0</td>\n",
              "      <td>2</td>\n",
              "      <td>1</td>\n",
              "    </tr>\n",
              "  </tbody>\n",
              "</table>\n",
              "</div>"
            ],
            "text/plain": [
              "   age  sex  cp  trestbps  chol  fbs  ...  exang  oldpeak  slope  ca  thal  target\n",
              "0   63    1   3       145   233    1  ...      0      2.3      0   0     1       1\n",
              "1   37    1   2       130   250    0  ...      0      3.5      0   0     2       1\n",
              "2   41    0   1       130   204    0  ...      0      1.4      2   0     2       1\n",
              "3   56    1   1       120   236    0  ...      0      0.8      2   0     2       1\n",
              "4   57    0   0       120   354    0  ...      1      0.6      2   0     2       1\n",
              "\n",
              "[5 rows x 14 columns]"
            ]
          },
          "metadata": {
            "tags": []
          },
          "execution_count": 105
        }
      ]
    },
    {
      "cell_type": "code",
      "metadata": {
        "id": "d9wb01NdKvGn",
        "colab_type": "code",
        "colab": {
          "base_uri": "https://localhost:8080/",
          "height": 34
        },
        "outputId": "265567a9-d3e2-48ab-fa7a-51ba6a6b5148"
      },
      "source": [
        "#Verificando quantidade de linhas e colunas de toda a base de dados\n",
        "dados.shape"
      ],
      "execution_count": 106,
      "outputs": [
        {
          "output_type": "execute_result",
          "data": {
            "text/plain": [
              "(303, 14)"
            ]
          },
          "metadata": {
            "tags": []
          },
          "execution_count": 106
        }
      ]
    },
    {
      "cell_type": "markdown",
      "metadata": {
        "id": "Xh4QpPGxlQFn",
        "colab_type": "text"
      },
      "source": [
        "## 2. Iniciando limpeza de dados"
      ]
    },
    {
      "cell_type": "code",
      "metadata": {
        "id": "UiedxlgjlVrh",
        "colab_type": "code",
        "colab": {}
      },
      "source": [
        "#Verificando dados faltantes ou valores NAN\n",
        "dados = dados.dropna()"
      ],
      "execution_count": 107,
      "outputs": []
    },
    {
      "cell_type": "code",
      "metadata": {
        "id": "RNeZVXTeJJAy",
        "colab_type": "code",
        "colab": {}
      },
      "source": [
        "# importando biblioteca para plotar gráficos\n",
        "import matplotlib.pyplot as plt"
      ],
      "execution_count": 108,
      "outputs": []
    },
    {
      "cell_type": "markdown",
      "metadata": {
        "id": "YNCFocmcBW1M",
        "colab_type": "text"
      },
      "source": [
        "# 3.Análise preliminar dos dados"
      ]
    },
    {
      "cell_type": "code",
      "metadata": {
        "id": "InhmxFUmJdbG",
        "colab_type": "code",
        "colab": {
          "base_uri": "https://localhost:8080/",
          "height": 281
        },
        "outputId": "976a9afb-451f-4369-9f50-1fa4186dd8f9"
      },
      "source": [
        "\n",
        "#Verificando ocorrência de possível ataque cardíaco\n",
        "plt.hist(dados['target'])\n",
        "plt.ylabel('Quantidade')\n",
        "plt.title('Possibilidade de ataque cardíaco')\n",
        "plt.grid(True)\n",
        "plt.show()"
      ],
      "execution_count": 109,
      "outputs": [
        {
          "output_type": "display_data",
          "data": {
            "image/png": "[encoded data removed]",
            "text/plain": [
              "<Figure size 432x288 with 1 Axes>"
            ]
          },
          "metadata": {
            "tags": [],
            "needs_background": "light"
          }
        }
      ]
    },
    {
      "cell_type": "markdown",
      "metadata": {
        "id": "tPZxuBM0GSZw",
        "colab_type": "text"
      },
      "source": [
        "CONCLUSÃO 1: NA BASE DE DADOS, POSSUI UMA QUANTIDADE MAIOR DE PACIENTES COM PROBLEMAS CARDÍACOS OU QUE TEM CHANCE DE TER UM ATAQUE CARDÍACO. ENTRETANTO, A QUANTIDADE DE PACIENTES DE CADA UMA NÃO SE DISTANCIA TANTO."
      ]
    },
    {
      "cell_type": "code",
      "metadata": {
        "id": "s0GPx4_aLL_u",
        "colab_type": "code",
        "colab": {
          "base_uri": "https://localhost:8080/",
          "height": 52
        },
        "outputId": "23f8b233-33f2-4428-e81e-0015870d1778"
      },
      "source": [
        "#Verificando quantas pacientes tem possibilidade de ataque cardíaco\n",
        "print('Mais chances de atarque cardíaco:',dados[dados['target']==1].shape[0])\n",
        "print('Menos chances de atarque cardíaco:',dados[dados['target']==0].shape[0])"
      ],
      "execution_count": 110,
      "outputs": [
        {
          "output_type": "stream",
          "text": [
            "Mais chances de atarque cardíaco: 165\n",
            "Menos chances de atarque cardíaco: 138\n"
          ],
          "name": "stdout"
        }
      ]
    },
    {
      "cell_type": "code",
      "metadata": {
        "id": "D3Scl-gNRM57",
        "colab_type": "code",
        "colab": {
          "base_uri": "https://localhost:8080/",
          "height": 281
        },
        "outputId": "6cfe0a6a-88b8-4669-a49d-e48c163485ab"
      },
      "source": [
        "#Verificando pressão arterial em repouso\n",
        "plt.hist(dados['trestbps'])\n",
        "plt.ylabel('Quantidade')\n",
        "plt.title('Ocorrências de pressão arterial em repouso')\n",
        "plt.grid(True)\n",
        "plt.show()"
      ],
      "execution_count": 111,
      "outputs": [
        {
          "output_type": "display_data",
          "data": {
            "image/png": "[encoded data removed]",
            "text/plain": [
              "<Figure size 432x288 with 1 Axes>"
            ]
          },
          "metadata": {
            "tags": [],
            "needs_background": "light"
          }
        }
      ]
    },
    {
      "cell_type": "markdown",
      "metadata": {
        "id": "uGPHJBzzHF0_",
        "colab_type": "text"
      },
      "source": [
        "CONCLUSÃO 2: MAIOR QUANTIDADE DE PACIENTES ESTÁ ACIMA DA TAXA CONSIDERADA NORMAL PARA PRESSÃO ARTERIAL.\n",
        "\n",
        "OBS: NÃO É POSSÍVEL CONCLUIR SE É PRESSÃO APRESENTADA NOS DADOS É SISTÓLICA OU DIASTÓLICA."
      ]
    },
    {
      "cell_type": "code",
      "metadata": {
        "id": "VI525LwMnr0g",
        "colab_type": "code",
        "colab": {
          "base_uri": "https://localhost:8080/",
          "height": 294
        },
        "outputId": "6ac97394-827b-48da-f94f-f4f32da0dfd1"
      },
      "source": [
        "sns.distplot(dados.trestbps, hist=False, rug=False)\n",
        "plt.ylabel('Probabilidades')\n",
        "plt.title('Ocorrências de pressão arterial em repouso')\n",
        "plt.show()"
      ],
      "execution_count": 112,
      "outputs": [
        {
          "output_type": "display_data",
          "data": {
            "image/png": "[encoded data removed]",
            "text/plain": [
              "<Figure size 432x288 with 1 Axes>"
            ]
          },
          "metadata": {
            "tags": [],
            "needs_background": "light"
          }
        }
      ]
    },
    {
      "cell_type": "code",
      "metadata": {
        "id": "nv2SmN3PSlu4",
        "colab_type": "code",
        "colab": {
          "base_uri": "https://localhost:8080/",
          "height": 281
        },
        "outputId": "b9b1d556-b493-471b-b403-d052371a5a3c"
      },
      "source": [
        "#Verificando colesterol sérico em mg / dl\n",
        "plt.hist(dados['chol'])\n",
        "plt.ylabel('Quantidade')\n",
        "plt.title('Ocorrências de pcolesterol sérico em mg / dl')\n",
        "plt.grid(True)\n",
        "plt.show()"
      ],
      "execution_count": 113,
      "outputs": [
        {
          "output_type": "display_data",
          "data": {
            "image/png": "[encoded data removed]",
            "text/plain": [
              "<Figure size 432x288 with 1 Axes>"
            ]
          },
          "metadata": {
            "tags": [],
            "needs_background": "light"
          }
        }
      ]
    },
    {
      "cell_type": "markdown",
      "metadata": {
        "id": "TyaU-wbuIf0-",
        "colab_type": "text"
      },
      "source": [
        "CONCLUSÃO 3: MAIOR PARTE DOS PSCIENTES ESTÁ ACIMA DA TAXA CONSIDERADA NORMAL PARA COLESTEROL SÉRICO: Colesterol total\tmenor que 170 mg/dl.\n",
        "\n",
        "OBS: NÃO É POSSÍVEL CONCLUIR A QUAL TIPO DE COLESTEROL ESSES DADOS SE REFEREM. ESÁ SENDO CONSIDERADO O COLESTEROL TOTAL."
      ]
    },
    {
      "cell_type": "code",
      "metadata": {
        "id": "SElhzUEYoVDf",
        "colab_type": "code",
        "colab": {
          "base_uri": "https://localhost:8080/",
          "height": 294
        },
        "outputId": "3aa30eca-92ba-47d7-9af9-4c1b407f9eae"
      },
      "source": [
        "sns.distplot(dados.chol, hist=False, rug=False)\n",
        "plt.ylabel('Probabilidades')\n",
        "plt.title('Ocorrências de colesterol sérico')\n",
        "plt.show()"
      ],
      "execution_count": 114,
      "outputs": [
        {
          "output_type": "display_data",
          "data": {
            "image/png": "[encoded data removed]",
            "text/plain": [
              "<Figure size 432x288 with 1 Axes>"
            ]
          },
          "metadata": {
            "tags": [],
            "needs_background": "light"
          }
        }
      ]
    },
    {
      "cell_type": "code",
      "metadata": {
        "id": "zEFZ2cwrS_CH",
        "colab_type": "code",
        "colab": {
          "base_uri": "https://localhost:8080/",
          "height": 281
        },
        "outputId": "6e5c10a3-3f9d-4101-d523-d5552a568b35"
      },
      "source": [
        "#Verificando tipo de dor no peito\n",
        "plt.hist(dados['cp'])\n",
        "plt.ylabel('Quantidade')\n",
        "plt.title('Ocorrências de tipo de dor no peito')\n",
        "plt.grid(True)\n",
        "plt.show()"
      ],
      "execution_count": 115,
      "outputs": [
        {
          "output_type": "display_data",
          "data": {
            "image/png": "[encoded data removed]",
            "text/plain": [
              "<Figure size 432x288 with 1 Axes>"
            ]
          },
          "metadata": {
            "tags": [],
            "needs_background": "light"
          }
        }
      ]
    },
    {
      "cell_type": "markdown",
      "metadata": {
        "id": "prSR9fU3KI8R",
        "colab_type": "text"
      },
      "source": [
        "CONCLUSÃO 4: MAIOR PARTE DOS PACIENTES NÃO APRESENTARAM DORES NO PEITO."
      ]
    },
    {
      "cell_type": "code",
      "metadata": {
        "id": "oLjmaWbio-DG",
        "colab_type": "code",
        "colab": {
          "base_uri": "https://localhost:8080/",
          "height": 294
        },
        "outputId": "6b2a43d9-d03e-4552-f684-6686b2fa0058"
      },
      "source": [
        "sns.distplot(dados.cp, hist=False, rug=False)\n",
        "plt.ylabel('Probabilidades')\n",
        "plt.title('Ocorrências de dor no peito')\n",
        "plt.show()"
      ],
      "execution_count": 116,
      "outputs": [
        {
          "output_type": "display_data",
          "data": {
            "image/png": "[encoded data removed]",
            "text/plain": [
              "<Figure size 432x288 with 1 Axes>"
            ]
          },
          "metadata": {
            "tags": [],
            "needs_background": "light"
          }
        }
      ]
    },
    {
      "cell_type": "code",
      "metadata": {
        "id": "TLkpKkHpkhsk",
        "colab_type": "code",
        "colab": {}
      },
      "source": [
        "import seaborn as sns"
      ],
      "execution_count": 117,
      "outputs": []
    },
    {
      "cell_type": "code",
      "metadata": {
        "id": "irKt0Yn2hLJM",
        "colab_type": "code",
        "colab": {}
      },
      "source": [
        "#Criando dataframe apenas para pacientes com chance de ataque cardíaco ou que possuem problemas cardíacos, representado por AC\n",
        "AC = dados[dados['target']==1].drop(columns=['target']).reset_index(drop=True)"
      ],
      "execution_count": 118,
      "outputs": []
    },
    {
      "cell_type": "code",
      "metadata": {
        "id": "qSukwFVNiKw3",
        "colab_type": "code",
        "colab": {}
      },
      "source": [
        "#Criando dataframe apenas para pacientes com menos chance de ataque cardíaco, representado por NAC\n",
        "NAC = dados[dados['target']==0].drop(columns=['target']).reset_index(drop=True)"
      ],
      "execution_count": 119,
      "outputs": []
    },
    {
      "cell_type": "code",
      "metadata": {
        "id": "9uRi45D1id_Z",
        "colab_type": "code",
        "colab": {
          "base_uri": "https://localhost:8080/",
          "height": 294
        },
        "outputId": "6c4c5661-3ad9-4e88-bc0d-0f50a048dfcc"
      },
      "source": [
        "# Box plot comparando a pressão arterial em repouso para as duas classes\n",
        "plt.boxplot([AC.trestbps,NAC.trestbps],labels=['maior chance','menor chance'])\n",
        "plt.xlabel('Classes')\n",
        "plt.ylabel('pressão arterial em repouso')\n",
        "plt.title('Pressão Arterial')\n",
        "plt.show()"
      ],
      "execution_count": 120,
      "outputs": [
        {
          "output_type": "display_data",
          "data": {
            "image/png": "[encoded data removed]",
            "text/plain": [
              "<Figure size 432x288 with 1 Axes>"
            ]
          },
          "metadata": {
            "tags": [],
            "needs_background": "light"
          }
        }
      ]
    },
    {
      "cell_type": "markdown",
      "metadata": {
        "id": "-sHe-igiKhHB",
        "colab_type": "text"
      },
      "source": [
        "CONCLUSÃO 5: NÃO HOUVE TANTA DISCREPÂNCIA ENTRE OS PACIENTES COM MAIOR E MENOR CHANCE EM RELAÇÃO A PRESSÃO ARTERIAL EM REPOUSO. PRESENÇA DE ALGUNS DADOS ANORMAIS."
      ]
    },
    {
      "cell_type": "code",
      "metadata": {
        "id": "iNIFKvtaq6en",
        "colab_type": "code",
        "colab": {
          "base_uri": "https://localhost:8080/",
          "height": 294
        },
        "outputId": "69842587-0d35-4a70-92c7-8051269a5514"
      },
      "source": [
        "# Box plot comparando o colesterol sérico para as duas classes\n",
        "plt.boxplot([AC.chol,NAC.chol],labels=['maior chance','menor chance'])\n",
        "plt.xlabel('Classes')\n",
        "plt.ylabel('colesterol sérico  em mg/dl')\n",
        "plt.title('Colesterol Sérico')\n",
        "plt.show()"
      ],
      "execution_count": 121,
      "outputs": [
        {
          "output_type": "display_data",
          "data": {
            "image/png": "[encoded data removed]",
            "text/plain": [
              "<Figure size 432x288 with 1 Axes>"
            ]
          },
          "metadata": {
            "tags": [],
            "needs_background": "light"
          }
        }
      ]
    },
    {
      "cell_type": "markdown",
      "metadata": {
        "id": "nzNcUvNmLO5V",
        "colab_type": "text"
      },
      "source": [
        "CONCLUSÃO 6: NÃO HOUVE TANTA DISCREPÂNCIA ENTRE OS PACIENTES COM MAIOR E MENOR CHANCE EM RELAÇÃO AO COLESTEROL SÉRICO. PRESENÇA DE ALGUNS DADOS ANORMAIS."
      ]
    },
    {
      "cell_type": "code",
      "metadata": {
        "id": "fUp-NLxqr3zj",
        "colab_type": "code",
        "colab": {
          "base_uri": "https://localhost:8080/",
          "height": 294
        },
        "outputId": "69097806-933e-4f66-b16a-7368181fb358"
      },
      "source": [
        "# Box plot comparando a frequência cardíaca máxima alcançada para as duas classes\n",
        "plt.boxplot([AC.thalach,NAC.thalach],labels=['maior chance','menor chance'])\n",
        "plt.xlabel('Classes')\n",
        "plt.ylabel('Frequência Máxima')\n",
        "plt.title('Frequência Máxima alcançada')\n",
        "plt.show()"
      ],
      "execution_count": 122,
      "outputs": [
        {
          "output_type": "display_data",
          "data": {
            "image/png": "[encoded data removed]",
            "text/plain": [
              "<Figure size 432x288 with 1 Axes>"
            ]
          },
          "metadata": {
            "tags": [],
            "needs_background": "light"
          }
        }
      ]
    },
    {
      "cell_type": "markdown",
      "metadata": {
        "id": "4lI6evzXLsGz",
        "colab_type": "text"
      },
      "source": [
        "CONCLUSÃO 7: NESTA ANÁLISE HOUVE UMA MAIOR DISCREPÂNCIA ENTRE OS PACIENTES COM MAIOR E MENOR CHANCE EM RELAÇÃO A FREQUÊNCIA MÁXIMA ALCANÇADA. A TAXA DE PACIENTES COM MAIOR CHANCE É UM POUCO MENOR QUE O OUTRO GRUPO."
      ]
    },
    {
      "cell_type": "code",
      "metadata": {
        "id": "abbzzqWh4BIk",
        "colab_type": "code",
        "colab": {
          "base_uri": "https://localhost:8080/",
          "height": 294
        },
        "outputId": "28e37301-ee95-4036-c9f2-e2a13da77675"
      },
      "source": [
        "# Box plot comparando a depressão de ST para as duas classes\n",
        "plt.boxplot([AC.oldpeak,NAC.oldpeak],labels=['com chance','sem chance'])\n",
        "plt.xlabel('Classes')\n",
        "plt.ylabel('Depressão de ST')\n",
        "plt.title('Depressão de ST induzida por exercício em relação ao repouso')\n",
        "plt.show()"
      ],
      "execution_count": 123,
      "outputs": [
        {
          "output_type": "display_data",
          "data": {
            "image/png": "[encoded data removed]",
            "text/plain": [
              "<Figure size 432x288 with 1 Axes>"
            ]
          },
          "metadata": {
            "tags": [],
            "needs_background": "light"
          }
        }
      ]
    },
    {
      "cell_type": "code",
      "metadata": {
        "id": "RzMa8PKi45M4",
        "colab_type": "code",
        "colab": {
          "base_uri": "https://localhost:8080/",
          "height": 294
        },
        "outputId": "9bc99230-d927-4332-ca8f-167447b265db"
      },
      "source": [
        "# Box plot comparando o inclinação de ST para as duas classes\n",
        "plt.boxplot([AC.oldpeak,NAC.oldpeak],labels=['com chance','sem chance'])\n",
        "plt.xlabel('Classes')\n",
        "plt.ylabel('Inclinação de ST')\n",
        "plt.title('Inclinação do segmento ST de pico de exercício')\n",
        "plt.show()"
      ],
      "execution_count": 124,
      "outputs": [
        {
          "output_type": "display_data",
          "data": {
            "image/png": "[encoded data removed]",
            "text/plain": [
              "<Figure size 432x288 with 1 Axes>"
            ]
          },
          "metadata": {
            "tags": [],
            "needs_background": "light"
          }
        }
      ]
    },
    {
      "cell_type": "markdown",
      "metadata": {
        "id": "iLgNKDj3PIaQ",
        "colab_type": "text"
      },
      "source": [
        ""
      ]
    },
    {
      "cell_type": "markdown",
      "metadata": {
        "id": "8QrJdOx9CQkU",
        "colab_type": "text"
      },
      "source": [
        "## 4. Análise estatística dos dados"
      ]
    },
    {
      "cell_type": "code",
      "metadata": {
        "id": "14PoMShzuL0K",
        "colab_type": "code",
        "colab": {
          "base_uri": "https://localhost:8080/",
          "height": 265
        },
        "outputId": "2a0a283d-6595-4321-8ae8-960006638b17"
      },
      "source": [
        "# Estatística b´ssica dos dados - média - Mais chances de ataque cardíaco ou problema cardíaco\n",
        "AC.mean()"
      ],
      "execution_count": 125,
      "outputs": [
        {
          "output_type": "execute_result",
          "data": {
            "text/plain": [
              "age          52.496970\n",
              "sex           0.563636\n",
              "cp            1.375758\n",
              "trestbps    129.303030\n",
              "chol        242.230303\n",
              "fbs           0.139394\n",
              "restecg       0.593939\n",
              "thalach     158.466667\n",
              "exang         0.139394\n",
              "oldpeak       0.583030\n",
              "slope         1.593939\n",
              "ca            0.363636\n",
              "thal          2.121212\n",
              "dtype: float64"
            ]
          },
          "metadata": {
            "tags": []
          },
          "execution_count": 125
        }
      ]
    },
    {
      "cell_type": "code",
      "metadata": {
        "id": "hr-9Z8tc2TwI",
        "colab_type": "code",
        "colab": {
          "base_uri": "https://localhost:8080/",
          "height": 265
        },
        "outputId": "69821df2-1f05-4daa-fb3e-16f7caf51384"
      },
      "source": [
        "# Estatística básica dos dados - media - Menos chances de ataque cardíaco\n",
        "NAC.mean()"
      ],
      "execution_count": 126,
      "outputs": [
        {
          "output_type": "execute_result",
          "data": {
            "text/plain": [
              "age          56.601449\n",
              "sex           0.826087\n",
              "cp            0.478261\n",
              "trestbps    134.398551\n",
              "chol        251.086957\n",
              "fbs           0.159420\n",
              "restecg       0.449275\n",
              "thalach     139.101449\n",
              "exang         0.550725\n",
              "oldpeak       1.585507\n",
              "slope         1.166667\n",
              "ca            1.166667\n",
              "thal          2.543478\n",
              "dtype: float64"
            ]
          },
          "metadata": {
            "tags": []
          },
          "execution_count": 126
        }
      ]
    },
    {
      "cell_type": "code",
      "metadata": {
        "id": "FiZW4MCG2Zby",
        "colab_type": "code",
        "colab": {
          "base_uri": "https://localhost:8080/",
          "height": 265
        },
        "outputId": "e01302aa-45b8-4d29-8337-d5c43b58a763"
      },
      "source": [
        "# Estatística básica dos dados - desvio padrão - Mais chances de ataque cardíaco ou problema cardíaco\n",
        "AC.std()"
      ],
      "execution_count": 127,
      "outputs": [
        {
          "output_type": "execute_result",
          "data": {
            "text/plain": [
              "age          9.550651\n",
              "sex          0.497444\n",
              "cp           0.952222\n",
              "trestbps    16.169613\n",
              "chol        53.552872\n",
              "fbs          0.347412\n",
              "restecg      0.504818\n",
              "thalach     19.174276\n",
              "exang        0.347412\n",
              "oldpeak      0.780683\n",
              "slope        0.593635\n",
              "ca           0.848894\n",
              "thal         0.465752\n",
              "dtype: float64"
            ]
          },
          "metadata": {
            "tags": []
          },
          "execution_count": 127
        }
      ]
    },
    {
      "cell_type": "code",
      "metadata": {
        "id": "Jbo9K_ZL3He7",
        "colab_type": "code",
        "colab": {
          "base_uri": "https://localhost:8080/",
          "height": 265
        },
        "outputId": "e5ae04cc-78c2-48cd-f9de-ce87670420fb"
      },
      "source": [
        "# Estatística básica dos dados - desvio padrão - Menos chances de ataque cardíaco\n",
        "NAC.std()"
      ],
      "execution_count": 128,
      "outputs": [
        {
          "output_type": "execute_result",
          "data": {
            "text/plain": [
              "age          7.962082\n",
              "sex          0.380416\n",
              "cp           0.905920\n",
              "trestbps    18.729944\n",
              "chol        49.454614\n",
              "fbs          0.367401\n",
              "restecg      0.541321\n",
              "thalach     22.598782\n",
              "exang        0.499232\n",
              "oldpeak      1.300340\n",
              "slope        0.561324\n",
              "ca           1.043460\n",
              "thal         0.684762\n",
              "dtype: float64"
            ]
          },
          "metadata": {
            "tags": []
          },
          "execution_count": 128
        }
      ]
    },
    {
      "cell_type": "markdown",
      "metadata": {
        "id": "dDJmbU9XClEw",
        "colab_type": "text"
      },
      "source": [
        "## 5. Estudo de correlação entre atributos"
      ]
    },
    {
      "cell_type": "code",
      "metadata": {
        "id": "-ah4xc6a6K7K",
        "colab_type": "code",
        "colab": {
          "base_uri": "https://localhost:8080/",
          "height": 467
        },
        "outputId": "a64f3347-da53-4257-f10e-5a913b307b1e"
      },
      "source": [
        "# Correlaçao entre os atributos\n",
        "corr = dados.corr()\n",
        "corr"
      ],
      "execution_count": 129,
      "outputs": [
        {
          "output_type": "execute_result",
          "data": {
            "text/html": [
              "<div>\n",
              "<style scoped>\n",
              "    .dataframe tbody tr th:only-of-type {\n",
              "        vertical-align: middle;\n",
              "    }\n",
              "\n",
              "    .dataframe tbody tr th {\n",
              "        vertical-align: top;\n",
              "    }\n",
              "\n",
              "    .dataframe thead th {\n",
              "        text-align: right;\n",
              "    }\n",
              "</style>\n",
              "<table border=\"1\" class=\"dataframe\">\n",
              "  <thead>\n",
              "    <tr style=\"text-align: right;\">\n",
              "      <th></th>\n",
              "      <th>age</th>\n",
              "      <th>sex</th>\n",
              "      <th>cp</th>\n",
              "      <th>trestbps</th>\n",
              "      <th>chol</th>\n",
              "      <th>fbs</th>\n",
              "      <th>restecg</th>\n",
              "      <th>thalach</th>\n",
              "      <th>exang</th>\n",
              "      <th>oldpeak</th>\n",
              "      <th>slope</th>\n",
              "      <th>ca</th>\n",
              "      <th>thal</th>\n",
              "      <th>target</th>\n",
              "    </tr>\n",
              "  </thead>\n",
              "  <tbody>\n",
              "    <tr>\n",
              "      <th>age</th>\n",
              "      <td>1.000000</td>\n",
              "      <td>-0.098447</td>\n",
              "      <td>-0.068653</td>\n",
              "      <td>0.279351</td>\n",
              "      <td>0.213678</td>\n",
              "      <td>0.121308</td>\n",
              "      <td>-0.116211</td>\n",
              "      <td>-0.398522</td>\n",
              "      <td>0.096801</td>\n",
              "      <td>0.210013</td>\n",
              "      <td>-0.168814</td>\n",
              "      <td>0.276326</td>\n",
              "      <td>0.068001</td>\n",
              "      <td>-0.225439</td>\n",
              "    </tr>\n",
              "    <tr>\n",
              "      <th>sex</th>\n",
              "      <td>-0.098447</td>\n",
              "      <td>1.000000</td>\n",
              "      <td>-0.049353</td>\n",
              "      <td>-0.056769</td>\n",
              "      <td>-0.197912</td>\n",
              "      <td>0.045032</td>\n",
              "      <td>-0.058196</td>\n",
              "      <td>-0.044020</td>\n",
              "      <td>0.141664</td>\n",
              "      <td>0.096093</td>\n",
              "      <td>-0.030711</td>\n",
              "      <td>0.118261</td>\n",
              "      <td>0.210041</td>\n",
              "      <td>-0.280937</td>\n",
              "    </tr>\n",
              "    <tr>\n",
              "      <th>cp</th>\n",
              "      <td>-0.068653</td>\n",
              "      <td>-0.049353</td>\n",
              "      <td>1.000000</td>\n",
              "      <td>0.047608</td>\n",
              "      <td>-0.076904</td>\n",
              "      <td>0.094444</td>\n",
              "      <td>0.044421</td>\n",
              "      <td>0.295762</td>\n",
              "      <td>-0.394280</td>\n",
              "      <td>-0.149230</td>\n",
              "      <td>0.119717</td>\n",
              "      <td>-0.181053</td>\n",
              "      <td>-0.161736</td>\n",
              "      <td>0.433798</td>\n",
              "    </tr>\n",
              "    <tr>\n",
              "      <th>trestbps</th>\n",
              "      <td>0.279351</td>\n",
              "      <td>-0.056769</td>\n",
              "      <td>0.047608</td>\n",
              "      <td>1.000000</td>\n",
              "      <td>0.123174</td>\n",
              "      <td>0.177531</td>\n",
              "      <td>-0.114103</td>\n",
              "      <td>-0.046698</td>\n",
              "      <td>0.067616</td>\n",
              "      <td>0.193216</td>\n",
              "      <td>-0.121475</td>\n",
              "      <td>0.101389</td>\n",
              "      <td>0.062210</td>\n",
              "      <td>-0.144931</td>\n",
              "    </tr>\n",
              "    <tr>\n",
              "      <th>chol</th>\n",
              "      <td>0.213678</td>\n",
              "      <td>-0.197912</td>\n",
              "      <td>-0.076904</td>\n",
              "      <td>0.123174</td>\n",
              "      <td>1.000000</td>\n",
              "      <td>0.013294</td>\n",
              "      <td>-0.151040</td>\n",
              "      <td>-0.009940</td>\n",
              "      <td>0.067023</td>\n",
              "      <td>0.053952</td>\n",
              "      <td>-0.004038</td>\n",
              "      <td>0.070511</td>\n",
              "      <td>0.098803</td>\n",
              "      <td>-0.085239</td>\n",
              "    </tr>\n",
              "    <tr>\n",
              "      <th>fbs</th>\n",
              "      <td>0.121308</td>\n",
              "      <td>0.045032</td>\n",
              "      <td>0.094444</td>\n",
              "      <td>0.177531</td>\n",
              "      <td>0.013294</td>\n",
              "      <td>1.000000</td>\n",
              "      <td>-0.084189</td>\n",
              "      <td>-0.008567</td>\n",
              "      <td>0.025665</td>\n",
              "      <td>0.005747</td>\n",
              "      <td>-0.059894</td>\n",
              "      <td>0.137979</td>\n",
              "      <td>-0.032019</td>\n",
              "      <td>-0.028046</td>\n",
              "    </tr>\n",
              "    <tr>\n",
              "      <th>restecg</th>\n",
              "      <td>-0.116211</td>\n",
              "      <td>-0.058196</td>\n",
              "      <td>0.044421</td>\n",
              "      <td>-0.114103</td>\n",
              "      <td>-0.151040</td>\n",
              "      <td>-0.084189</td>\n",
              "      <td>1.000000</td>\n",
              "      <td>0.044123</td>\n",
              "      <td>-0.070733</td>\n",
              "      <td>-0.058770</td>\n",
              "      <td>0.093045</td>\n",
              "      <td>-0.072042</td>\n",
              "      <td>-0.011981</td>\n",
              "      <td>0.137230</td>\n",
              "    </tr>\n",
              "    <tr>\n",
              "      <th>thalach</th>\n",
              "      <td>-0.398522</td>\n",
              "      <td>-0.044020</td>\n",
              "      <td>0.295762</td>\n",
              "      <td>-0.046698</td>\n",
              "      <td>-0.009940</td>\n",
              "      <td>-0.008567</td>\n",
              "      <td>0.044123</td>\n",
              "      <td>1.000000</td>\n",
              "      <td>-0.378812</td>\n",
              "      <td>-0.344187</td>\n",
              "      <td>0.386784</td>\n",
              "      <td>-0.213177</td>\n",
              "      <td>-0.096439</td>\n",
              "      <td>0.421741</td>\n",
              "    </tr>\n",
              "    <tr>\n",
              "      <th>exang</th>\n",
              "      <td>0.096801</td>\n",
              "      <td>0.141664</td>\n",
              "      <td>-0.394280</td>\n",
              "      <td>0.067616</td>\n",
              "      <td>0.067023</td>\n",
              "      <td>0.025665</td>\n",
              "      <td>-0.070733</td>\n",
              "      <td>-0.378812</td>\n",
              "      <td>1.000000</td>\n",
              "      <td>0.288223</td>\n",
              "      <td>-0.257748</td>\n",
              "      <td>0.115739</td>\n",
              "      <td>0.206754</td>\n",
              "      <td>-0.436757</td>\n",
              "    </tr>\n",
              "    <tr>\n",
              "      <th>oldpeak</th>\n",
              "      <td>0.210013</td>\n",
              "      <td>0.096093</td>\n",
              "      <td>-0.149230</td>\n",
              "      <td>0.193216</td>\n",
              "      <td>0.053952</td>\n",
              "      <td>0.005747</td>\n",
              "      <td>-0.058770</td>\n",
              "      <td>-0.344187</td>\n",
              "      <td>0.288223</td>\n",
              "      <td>1.000000</td>\n",
              "      <td>-0.577537</td>\n",
              "      <td>0.222682</td>\n",
              "      <td>0.210244</td>\n",
              "      <td>-0.430696</td>\n",
              "    </tr>\n",
              "    <tr>\n",
              "      <th>slope</th>\n",
              "      <td>-0.168814</td>\n",
              "      <td>-0.030711</td>\n",
              "      <td>0.119717</td>\n",
              "      <td>-0.121475</td>\n",
              "      <td>-0.004038</td>\n",
              "      <td>-0.059894</td>\n",
              "      <td>0.093045</td>\n",
              "      <td>0.386784</td>\n",
              "      <td>-0.257748</td>\n",
              "      <td>-0.577537</td>\n",
              "      <td>1.000000</td>\n",
              "      <td>-0.080155</td>\n",
              "      <td>-0.104764</td>\n",
              "      <td>0.345877</td>\n",
              "    </tr>\n",
              "    <tr>\n",
              "      <th>ca</th>\n",
              "      <td>0.276326</td>\n",
              "      <td>0.118261</td>\n",
              "      <td>-0.181053</td>\n",
              "      <td>0.101389</td>\n",
              "      <td>0.070511</td>\n",
              "      <td>0.137979</td>\n",
              "      <td>-0.072042</td>\n",
              "      <td>-0.213177</td>\n",
              "      <td>0.115739</td>\n",
              "      <td>0.222682</td>\n",
              "      <td>-0.080155</td>\n",
              "      <td>1.000000</td>\n",
              "      <td>0.151832</td>\n",
              "      <td>-0.391724</td>\n",
              "    </tr>\n",
              "    <tr>\n",
              "      <th>thal</th>\n",
              "      <td>0.068001</td>\n",
              "      <td>0.210041</td>\n",
              "      <td>-0.161736</td>\n",
              "      <td>0.062210</td>\n",
              "      <td>0.098803</td>\n",
              "      <td>-0.032019</td>\n",
              "      <td>-0.011981</td>\n",
              "      <td>-0.096439</td>\n",
              "      <td>0.206754</td>\n",
              "      <td>0.210244</td>\n",
              "      <td>-0.104764</td>\n",
              "      <td>0.151832</td>\n",
              "      <td>1.000000</td>\n",
              "      <td>-0.344029</td>\n",
              "    </tr>\n",
              "    <tr>\n",
              "      <th>target</th>\n",
              "      <td>-0.225439</td>\n",
              "      <td>-0.280937</td>\n",
              "      <td>0.433798</td>\n",
              "      <td>-0.144931</td>\n",
              "      <td>-0.085239</td>\n",
              "      <td>-0.028046</td>\n",
              "      <td>0.137230</td>\n",
              "      <td>0.421741</td>\n",
              "      <td>-0.436757</td>\n",
              "      <td>-0.430696</td>\n",
              "      <td>0.345877</td>\n",
              "      <td>-0.391724</td>\n",
              "      <td>-0.344029</td>\n",
              "      <td>1.000000</td>\n",
              "    </tr>\n",
              "  </tbody>\n",
              "</table>\n",
              "</div>"
            ],
            "text/plain": [
              "               age       sex        cp  ...        ca      thal    target\n",
              "age       1.000000 -0.098447 -0.068653  ...  0.276326  0.068001 -0.225439\n",
              "sex      -0.098447  1.000000 -0.049353  ...  0.118261  0.210041 -0.280937\n",
              "cp       -0.068653 -0.049353  1.000000  ... -0.181053 -0.161736  0.433798\n",
              "trestbps  0.279351 -0.056769  0.047608  ...  0.101389  0.062210 -0.144931\n",
              "chol      0.213678 -0.197912 -0.076904  ...  0.070511  0.098803 -0.085239\n",
              "fbs       0.121308  0.045032  0.094444  ...  0.137979 -0.032019 -0.028046\n",
              "restecg  -0.116211 -0.058196  0.044421  ... -0.072042 -0.011981  0.137230\n",
              "thalach  -0.398522 -0.044020  0.295762  ... -0.213177 -0.096439  0.421741\n",
              "exang     0.096801  0.141664 -0.394280  ...  0.115739  0.206754 -0.436757\n",
              "oldpeak   0.210013  0.096093 -0.149230  ...  0.222682  0.210244 -0.430696\n",
              "slope    -0.168814 -0.030711  0.119717  ... -0.080155 -0.104764  0.345877\n",
              "ca        0.276326  0.118261 -0.181053  ...  1.000000  0.151832 -0.391724\n",
              "thal      0.068001  0.210041 -0.161736  ...  0.151832  1.000000 -0.344029\n",
              "target   -0.225439 -0.280937  0.433798  ... -0.391724 -0.344029  1.000000\n",
              "\n",
              "[14 rows x 14 columns]"
            ]
          },
          "metadata": {
            "tags": []
          },
          "execution_count": 129
        }
      ]
    },
    {
      "cell_type": "code",
      "metadata": {
        "id": "nQXnbr8T7O8Y",
        "colab_type": "code",
        "colab": {
          "base_uri": "https://localhost:8080/",
          "height": 317
        },
        "outputId": "a7d36566-ee55-46eb-acfc-62e3dfd09ef0"
      },
      "source": [
        "#plotando coeficientes de correlação em um mapa de calor\n",
        "sns.heatmap(corr,vmin=-1, vmax=1, center=0,cmap=sns.diverging_palette(20, 220, n=200))"
      ],
      "execution_count": 130,
      "outputs": [
        {
          "output_type": "execute_result",
          "data": {
            "text/plain": [
              "<matplotlib.axes._subplots.AxesSubplot at 0x7fd25d53e860>"
            ]
          },
          "metadata": {
            "tags": []
          },
          "execution_count": 130
        },
        {
          "output_type": "display_data",
          "data": {
            "image/png": "[encoded data removed]",
            "text/plain": [
              "<Figure size 432x288 with 2 Axes>"
            ]
          },
          "metadata": {
            "tags": [],
            "needs_background": "light"
          }
        }
      ]
    },
    {
      "cell_type": "markdown",
      "metadata": {
        "id": "eQ_Z07I6NM48",
        "colab_type": "text"
      },
      "source": [
        "COCLUSÃO GERAL :NO MAPA DE CALOR É POSSÍVEL NOTAR QUE DIANTE OS DADOS COLETADOS, SÃO BAIXAS AS CORRELAÇÕES ENTRE A MAIORIA DOS ATRIBUTOS. OU SEJA, DISTINGUIR PACIENTES QUE POSSUEM PROBLEMAS CARDÍACOS OU PODEM TER UM ATAQUE CARDÍACO COM OS QUE TEM MENOS CHANCES, NÃO É TÃO EFETIVO DE DIAGNOSTICAR. COMO ANALISADO DE MODO GERAL, UM BOA PARTE DOS DADOS APRESENTAM BAIXA CORRELAÇÃO.\n",
        "\n",
        "OS ATRIBUTOS QUE SE MOSTRARAM TER UMA MAIOR DIFERENÇA DE RELAÇÃO QUANDO SE TRATA DOS GRUPOS COM OU SEM CHANCE, FORAM: DEPRESSÃO DE ST INDUZIDA POR EXERCÍCIO, INCLINAÇÃO DE ST DE PICO DE EXERCÍCIO E FREQUÊNCIA CARDÍACA MÁXIMA ALCANÇADA. "
      ]
    },
    {
      "cell_type": "code",
      "metadata": {
        "id": "9FUAZZyjO8ng",
        "colab_type": "code",
        "colab": {}
      },
      "source": [
        ""
      ],
      "execution_count": 130,
      "outputs": []
    }
  ]
}